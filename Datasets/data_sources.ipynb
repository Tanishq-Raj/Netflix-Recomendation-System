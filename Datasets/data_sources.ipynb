{
 "cells": [
  {
   "cell_type": "markdown",
   "metadata": {},
   "source": [
    "<h1 >Movie Recommendation System Data Sources</h1>"
   ]
  },
  {
   "cell_type": "markdown",
   "metadata": {},
   "source": [
    "The following are the different datasets used in this project. \n",
    "\n",
    "#### **Sources of the datasets**\n",
    "1. [IMDB 5000 Movie Dataset](https://www.kaggle.com/carolzhangdc/imdb-5000-movie-dataset)\n",
    "2. [The Movies Dataset](https://www.kaggle.com/rounakbanik/the-movies-dataset)\n",
    "3. [List of movies in 2018](https://en.wikipedia.org/wiki/List_of_American_films_of_2018)\n",
    "4. [List of movies in 2019](https://en.wikipedia.org/wiki/List_of_American_films_of_2019)\n",
    "5. [List of movies in 2020](https://en.wikipedia.org/wiki/List_of_American_films_of_2020)\n",
    "6. [List of movies in 2021](https://en.wikipedia.org/wiki/List_of_American_films_of_2021)"
   ]
  },
  {
   "cell_type": "markdown",
   "metadata": {},
   "source": []
  }
 ],
 "metadata": {
  "language_info": {
   "name": "python"
  }
 },
 "nbformat": 4,
 "nbformat_minor": 2
}
